{
  "nbformat": 4,
  "nbformat_minor": 0,
  "metadata": {
    "colab": {
      "provenance": [],
      "authorship_tag": "ABX9TyMIHxifPN46Xa04gJL7ioIV",
      "include_colab_link": true
    },
    "kernelspec": {
      "name": "python3",
      "display_name": "Python 3"
    },
    "language_info": {
      "name": "python"
    }
  },
  "cells": [
    {
      "cell_type": "markdown",
      "metadata": {
        "id": "view-in-github",
        "colab_type": "text"
      },
      "source": [
        "<a href=\"https://colab.research.google.com/github/narendra29-05/ROCK_PAPER_SCISSOR_micro-_it/blob/main/sonar%26rock.ipynb\" target=\"_parent\"><img src=\"https://colab.research.google.com/assets/colab-badge.svg\" alt=\"Open In Colab\"/></a>"
      ]
    },
    {
      "cell_type": "markdown",
      "source": [
        "dependecies"
      ],
      "metadata": {
        "id": "WHqgdHZqa7Lf"
      }
    },
    {
      "cell_type": "code",
      "execution_count": 2,
      "metadata": {
        "id": "ipJzQxesZYpZ"
      },
      "outputs": [],
      "source": [
        "import numpy as np\n",
        "import pandas as pd\n",
        "from sklearn.model_selection import train_test_split\n",
        "from sklearn.linear_model import LogisticRegression\n"
      ]
    },
    {
      "cell_type": "code",
      "source": [
        "data=pd.read_csv(\"Copy of sonar data.csv\",header=None)\n",
        "data.describe()\n",
        "# data[60].value_counts()\n",
        "input_data = (0.0307,0.0523,0.0653,0.0521,0.0611,0.0577,0.0665,0.0664,0.1460,0.2792,0.3877,0.4992,0.4981,0.4972,0.5607,0.7339,0.8230,0.9173,0.9975,0.9911,0.8240,0.6498,0.5980,0.4862,0.3150,0.1543,0.0989,0.0284,0.1008,0.2636,0.2694,0.2930,0.2925,0.3998,0.3660,0.3172,0.4609,0.4374,0.1820,0.3376,0.6202,0.4448,0.1863,0.1420,0.0589,0.0576,0.0672,0.0269,0.0245,0.0190,0.0063,0.0321,0.0189,0.0137,0.0277,0.0152,0.0052,0.0121,0.0124,0.0055)\n",
        "input_data_reshape=np.asarray(input_data).reshape(1,-1)"
      ],
      "metadata": {
        "id": "XSUvI6eTa6Uh"
      },
      "execution_count": 17,
      "outputs": []
    },
    {
      "cell_type": "code",
      "source": [
        "data.groupby(60).mean()\n",
        "x=data.drop(columns=60,axis=1)\n",
        "y=data[60]\n",
        "x_train,x_test,y_train,y_test=train_test_split(x,y,test_size=0.1)\n",
        "\n",
        "\n",
        "#logistic regression\n",
        "\n",
        "l_e=LogisticRegression()\n",
        "l_e.fit(x_train,y_train)\n",
        "l_e.score(x_test,y_test)\n",
        "l_e.predict(x_test)\n",
        "pred=l_e.predict(input_data_reshape)\n",
        "if pred==\"R\":\n",
        "    print(\"rock\")\n",
        "else:\n",
        "    print(\"mine\")"
      ],
      "metadata": {
        "colab": {
          "base_uri": "https://localhost:8080/"
        },
        "id": "B1uvWHjgbVmO",
        "outputId": "bf9df55c-1f93-49ea-ee75-7cf7f0ec0eae"
      },
      "execution_count": 21,
      "outputs": [
        {
          "output_type": "stream",
          "name": "stdout",
          "text": [
            "mine\n"
          ]
        }
      ]
    }
  ]
}